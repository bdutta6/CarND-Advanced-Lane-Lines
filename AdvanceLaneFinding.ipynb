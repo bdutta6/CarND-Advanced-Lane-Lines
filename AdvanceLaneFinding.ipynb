{
 "cells": [
  {
   "cell_type": "markdown",
   "metadata": {},
   "source": [
    "## This is an advanced lane finding project\n",
    "The pipeline can be designed following the steps below:\n",
    "\n",
    " * Compute the camera calibration matrix and distortion coefficients given a set of chessboard images.\n",
    " * Apply a distortion correction to raw images.\n",
    " * Use color transforms, gradients, etc., to create a thresholded binary image.\n",
    " * Apply a perspective transform to rectify binary image (\"birds-eye view\").\n",
    " * Detect lane pixels and fit to find the lane boundary.\n",
    " * Determine the curvature of the lane and vehicle position with respect to center.\n",
    " * Warp the detected lane boundaries back onto the original image.\n",
    " * Output visual display of the lane boundaries and numerical estimation of lane curvature and vehicle position."
   ]
  },
  {
   "cell_type": "code",
   "execution_count": 46,
   "metadata": {},
   "outputs": [],
   "source": [
    "import numpy as np\n",
    "import cv2\n",
    "import glob\n",
    "import os\n",
    "import pickle\n",
    "import matplotlib.pyplot as plt\n",
    "import matplotlib.image as mpimg\n",
    "%matplotlib inline"
   ]
  },
  {
   "cell_type": "markdown",
   "metadata": {},
   "source": [
    "## Calculate calibration parameters from calibration images"
   ]
  },
  {
   "cell_type": "code",
   "execution_count": 62,
   "metadata": {},
   "outputs": [],
   "source": [
    "# prepare object points, like (0,0,0), (1,0,0), (2,0,0) ....,(6,5,0)\n",
    "objp = np.zeros((6*9,3), np.float32)\n",
    "objp[:,:2] = np.mgrid[0:9,0:6].T.reshape(-1,2)\n",
    "\n",
    "# Arrays to store object points and image points from all the images.\n",
    "objpoints = [] # 3d points in real world space\n",
    "imgpoints = [] # 2d points in image plane.\n",
    "\n",
    "# Make a list of calibration images\n",
    "images = glob.glob('./camera_cal/calibration*.jpg')\n",
    "\n",
    "# Step through the list and search for chessboard corners\n",
    "for fname in images:\n",
    "    img = cv2.imread(fname)\n",
    "    gray = cv2.cvtColor(img,cv2.COLOR_BGR2GRAY)\n",
    "\n",
    "    # Find the chessboard corners\n",
    "    ret, corners = cv2.findChessboardCorners(gray, (9,6),None)\n",
    "\n",
    "    # If found, add object points, image points\n",
    "    if ret == True:\n",
    "        objpoints.append(objp)\n",
    "        imgpoints.append(corners)\n",
    "\n",
    "        # Draw and display the corners\n",
    "        img = cv2.drawChessboardCorners(img, (9,6), corners, ret)\n",
    "        #cv2.imshow('img',img)\n",
    "        #cv2.waitKey(0)\n",
    "    #plt.figure()    \n",
    "    #plt.imshow(img)\n",
    "    #plt.show()\n",
    "#print(images)\n",
    "#cv2.destroyAllWindows()"
   ]
  },
  {
   "cell_type": "markdown",
   "metadata": {},
   "source": [
    "## Correct for distortion in images"
   ]
  },
  {
   "cell_type": "code",
   "execution_count": 49,
   "metadata": {},
   "outputs": [],
   "source": [
    "def cal_undistort(img, objpoints, imgpoints):\n",
    "    # Use cv2.calibrateCamera() and cv2.undistort()\n",
    "    ret, mtx, dist, rvecs, tvecs = cv2.calibrateCamera(objpoints, imgpoints, img.shape[1::-1],None,None)\n",
    "    #pickle.dump()\n",
    "    undist= cv2.undistort(img, mtx, dist, None, mtx)\n",
    "    #undist = np.copy(img)  # Delete this line\n",
    "    return [undist, ret, mtx, dist]\n",
    "\n",
    "\n",
    "\n",
    "# Make a list of calibration images\n",
    "raw_images = glob.glob('./test_images/*.jpg')\n",
    "#print(raw_images)\n",
    "\n",
    "for fname2 in raw_images:\n",
    "    img2 = cv2.imread(fname2)\n",
    "    undistorted, ret, mtx, dist = cal_undistort(img2, objpoints, imgpoints)\n",
    "    cv2.imwrite(os.path.join('./calibrated_images/',fname2[14:]), undistorted)\n",
    "    #print(fname2[14:])"
   ]
  },
  {
   "cell_type": "markdown",
   "metadata": {},
   "source": [
    "## Create a thresholded binary image"
   ]
  },
  {
   "cell_type": "code",
   "execution_count": 65,
   "metadata": {},
   "outputs": [
    {
     "name": "stdout",
     "output_type": "stream",
     "text": [
      "720\n",
      "720\n",
      "720\n",
      "720\n",
      "720\n",
      "720\n",
      "720\n",
      "720\n"
     ]
    },
    {
     "data": {
      "image/png": "[encoded data removed]",
      "text/plain": [
       "<Figure size 432x288 with 1 Axes>"
      ]
     },
     "metadata": {
      "needs_background": "light"
     },
     "output_type": "display_data"
    }
   ],
   "source": [
    "def binary_transformation(img, s_thresh=(170, 255), sx_thresh=(20, 100)):\n",
    "    img = np.copy(img)\n",
    "    # Convert to HLS color space and separate the V channel\n",
    "    hls = cv2.cvtColor(img, cv2.COLOR_RGB2HLS)\n",
    "    l_channel = hls[:,:,1]\n",
    "    s_channel = hls[:,:,2]\n",
    "    # Sobel x\n",
    "    sobelx = cv2.Sobel(l_channel, cv2.CV_64F, 1, 0) # Take the derivative in x\n",
    "    abs_sobelx = np.absolute(sobelx) # Absolute x derivative to accentuate lines away from horizontal\n",
    "    scaled_sobel = np.uint8(255*abs_sobelx/np.max(abs_sobelx))\n",
    "    \n",
    "    # Threshold x gradient\n",
    "    sxbinary = np.zeros_like(scaled_sobel)\n",
    "    sxbinary[(scaled_sobel >= sx_thresh[0]) & (scaled_sobel <= sx_thresh[1])] = 1\n",
    "    \n",
    "    # Threshold color channel\n",
    "    s_binary = np.zeros_like(s_channel)\n",
    "    s_binary[(s_channel >= s_thresh[0]) & (s_channel <= s_thresh[1])] = 1\n",
    "    \n",
    "    binary=cv2.bitwise_or(sxbinary,s_binary)\n",
    "    \n",
    "    # Stack each channel\n",
    "    #color_binary = np.dstack(( np.zeros_like(sxbinary), sxbinary, s_binary)) * 255\n",
    "    return binary\n",
    "    \n",
    "\n",
    "\n",
    "# Make a list of calibration images\n",
    "calibrated_images = glob.glob('./calibrated_images/*.jpg')\n",
    "#print(raw_images)\n",
    "\n",
    "for fname3 in calibrated_images:\n",
    "    img3 = cv2.imread(fname3)\n",
    "    binary_images = binary_transformation(img3)\n",
    "    cv2.imwrite(os.path.join('./binary_images/',fname3[20:]), binary_images*255)\n",
    "    #print(fname3[20:])\n",
    "        #cv2.imshow('img',img)\n",
    "        #cv2.waitKey(0)\n",
    "    #plt.figure()    \n",
    "    plt.imshow(binary_images)\n",
    "    print(binary_images.shape[0])\n",
    "    #plt.show()\n",
    "#print(images)\n",
    "#cv2.destroyAllWindows()"
   ]
  },
  {
   "cell_type": "markdown",
   "metadata": {},
   "source": [
    "## Store the undistorted calibration images for sanity check"
   ]
  },
  {
   "cell_type": "code",
   "execution_count": null,
   "metadata": {},
   "outputs": [],
   "source": [
    "# Make a list of calibration images\n",
    "calib_images = glob.glob('./camera_cal/*.jpg')\n",
    "#print(raw_images)\n",
    "\n",
    "for fname4 in calib_images:\n",
    "    img4 = cv2.imread(fname4)\n",
    "    undistorted_calib,ret, mtx, dist = cal_undistort(img4, objpoints, imgpoints)\n",
    "    cv2.imwrite(os.path.join('./undistorted_calibration_images/',fname4[13:]), undistorted_calib)\n",
    "    #print(fname4)"
   ]
  },
  {
   "cell_type": "markdown",
   "metadata": {},
   "source": [
    "## Rectify the images using perspective transform"
   ]
  },
  {
   "cell_type": "code",
   "execution_count": 68,
   "metadata": {},
   "outputs": [],
   "source": [
    "def warp_image(binary_image):   \n",
    "    \n",
    "    imgx=binary_image.shape[1]\n",
    "    imgy=binary_image.shape[0]\n",
    "    src = np.float32([[200,720], [1150,720], [750,450], [600,450]])\n",
    "    #print([corners[0,0], corners[7,0], corners[47,0], corners[40,0]])\n",
    "    # c) define 4 destination points dst = np.float32([[,],[,],[,],[,]])\n",
    "    dst = np.float32([[350,720],[950,720],[950,0],[350,0]])\n",
    "    # d) use cv2.getPerspectiveTransform() to get M, the transform matrix\n",
    "    M=cv2.getPerspectiveTransform(src, dst)\n",
    "    # e) use cv2.warpPerspective() to warp your image to a top-down view\n",
    "    warped=cv2.warpPerspective(binary_image, M, (imgx, imgy),flags=cv2.INTER_LINEAR)\n",
    "        \n",
    "    return warped\n",
    "    \n",
    "    \n",
    "# Make a list of calibration images\n",
    "binary_images = glob.glob('./binary_images/*.jpg')\n",
    "#print(raw_images)\n",
    "\n",
    "for fname5 in binary_images:\n",
    "    img5 = cv2.imread(fname5)\n",
    "    warped_images=warp_image(img5)\n",
    "    cv2.imwrite(os.path.join('./warped_images/',fname5[16:]), warped_images)\n",
    "    #print(fname5[16:])"
   ]
  },
  {
   "cell_type": "code",
   "execution_count": null,
   "metadata": {},
   "outputs": [],
   "source": []
  },
  {
   "cell_type": "markdown",
   "metadata": {},
   "source": [
    "## Detect lane pixels and fit to find the lane boundary"
   ]
  },
  {
   "cell_type": "code",
   "execution_count": null,
   "metadata": {},
   "outputs": [],
   "source": []
  },
  {
   "cell_type": "markdown",
   "metadata": {},
   "source": [
    "## Determine the curvature of the lane and vehicle position"
   ]
  },
  {
   "cell_type": "code",
   "execution_count": null,
   "metadata": {},
   "outputs": [],
   "source": []
  },
  {
   "cell_type": "markdown",
   "metadata": {},
   "source": [
    "## Warp the detected lane boundaries back onto the original image"
   ]
  },
  {
   "cell_type": "code",
   "execution_count": null,
   "metadata": {},
   "outputs": [],
   "source": []
  },
  {
   "cell_type": "markdown",
   "metadata": {},
   "source": [
    "## Output video with overlaid information"
   ]
  },
  {
   "cell_type": "code",
   "execution_count": null,
   "metadata": {},
   "outputs": [],
   "source": []
  }
 ],
 "metadata": {
  "kernelspec": {
   "display_name": "Python 3",
   "language": "python",
   "name": "python3"
  },
  "language_info": {
   "codemirror_mode": {
    "name": "ipython",
    "version": 3
   },
   "file_extension": ".py",
   "mimetype": "text/x-python",
   "name": "python",
   "nbconvert_exporter": "python",
   "pygments_lexer": "ipython3",
   "version": "3.6.10"
  }
 },
 "nbformat": 4,
 "nbformat_minor": 4
}
